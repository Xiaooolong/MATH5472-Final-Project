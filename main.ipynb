{
 "cells": [
  {
   "cell_type": "markdown",
   "metadata": {},
   "source": [
    "# The Linear VAE\n",
    "\n",
    "### Note:\n",
    "- Please use `pip install -r requirements.txt` to configure the environment.\n",
    "- This code references the existing implementation: [Google Colab Notebook](https://colab.research.google.com/github/google-research/google-research/blob/master/linear_vae/DontBlameTheELBO.ipynb)\n",
    "\n",
    "\n",
    "For preliminaries about pPCA and VAE, please obtain it from the report. Here, we only give the eact ELBO computation as follows:\n",
    "\n",
    "The ELBO is made up of two components, the prior KL divergence (i), $KL(q(\\mathbf{z}|\\mathbf{x})||p(\\mathbf{z}))$ and the reconstruction loss (ii), $\\mathbb{E}_{q(\\mathbf{z}|\\mathbf{x})}[\\log p(\\mathbf{x}|\\mathbf{z})]$.\n",
    "\n",
    "Because everything is Gaussian, we can compute these terms in closed-form.\n",
    "\n",
    "(i): $KL(q(\\mathbf{z}|\\mathbf{x})||p(\\mathbf{z})) = 0.5(tr(\\mathbf{D}) -\\log\\det(\\mathbf{D}) + (\\mathbf{x}-\\mathbf{\\mu})\\mathbf{V}^T\\mathbf{V}(\\mathbf{x} - \\mathbf{\\mu}) - q)$\n",
    "\n",
    "(ii): $\\mathbb{E}_{q(\\mathbf{z}|\\mathbf{x})}\\left[ \\log p(\\mathbf{x}|\\mathbf{z}) \\right] = \\frac{1}{2\\sigma^2} [ -tr(\\mathbf{W}\\mathbf{D}\\mathbf{W}^T) - (\\mathbf{x} - \\mathbf{\\mu})^T\\mathbf{V}^T\\mathbf{W}^T\\mathbf{W}\\mathbf{V}(\\mathbf{x}-\\mathbf{\\mu}) + 2(\\mathbf{x} - \\mathbf{\\mu})^T\\mathbf{W}\\mathbf{V}(\\mathbf{x}-\\mathbf{\\mu}) - (\\mathbf{x} - \\mathbf{\\mu})^T(\\mathbf{x} - \\mathbf{\\mu})] - \\frac{d}{2}\\log 2\\pi\\sigma^2$\n",
    "\n",
    "Thus, we can train the linear VAE using exact gradients to validate the theoretical results presented in our paper."
   ]
  },
  {
   "cell_type": "code",
   "execution_count": 1,
   "metadata": {},
   "outputs": [],
   "source": [
    "import tensorflow as tf\n",
    "from tensorflow.data import Dataset\n",
    "import tensorflow_datasets as tfds\n",
    "\n",
    "import numpy as np\n",
    "import matplotlib as mpl\n",
    "import matplotlib.pyplot as plt\n",
    "\n",
    "_LOG_2PI = np.log(2 * np.pi)"
   ]
  },
  {
   "cell_type": "code",
   "execution_count": 2,
   "metadata": {},
   "outputs": [],
   "source": [
    "def load_mnist_data(take):\n",
    "  '''Load a subset of the MNIST dataset, repeated.\n",
    "\n",
    "  Args:\n",
    "    take: The amount of training data to take.\n",
    "  \n",
    "  Returns:\n",
    "    A shuffled subset of the MNIST training dataset.\n",
    "  '''\n",
    "  mnist_builder = tfds.builder(\"mnist\")\n",
    "  mnist_info = mnist_builder.info\n",
    "  mnist_builder.download_and_prepare()\n",
    "  datasets = mnist_builder.as_dataset()\n",
    "  train_dataset = datasets['train']\n",
    "  train_dataset = train_dataset.take(take).map(\n",
    "      lambda x : tf.reshape(tf.cast(x['image'], tf.float32) / 255.0, [-1]))\n",
    "  return train_dataset"
   ]
  },
  {
   "cell_type": "markdown",
   "metadata": {},
   "source": [
    "## Linear VAE Class"
   ]
  },
  {
   "cell_type": "code",
   "execution_count": 3,
   "metadata": {},
   "outputs": [],
   "source": [
    "class LinearVAEConfig(object):\n",
    "  \"\"\"Config class for the Linear VAE.\n",
    "\n",
    "  Args:\n",
    "    input_dim: Number of input dimensions (default: 784)\n",
    "    hidden_dim: Number of hidden dimensions (default: 20)\n",
    "    trainable_sigma: Whether observation noise should be learned (default: True)\n",
    "    sigma_init: Initial value of sigma^2 (default: None)\n",
    "    stochastic_ELBO: Use stochastic ELBO estimation (default: False)\n",
    "  \"\"\"\n",
    "\n",
    "  def __init__(self,\n",
    "               input_dim=784,\n",
    "               hidden_dim=20,\n",
    "               trainable_sigma=True,\n",
    "               sigma_init=None,\n",
    "               stochastic_ELBO=False):\n",
    "    self.input_dim = input_dim\n",
    "    self.hidden_dim = hidden_dim\n",
    "    self.trainable_sigma = trainable_sigma\n",
    "    self.sigma_init = sigma_init\n",
    "    self.stochastic_ELBO = stochastic_ELBO\n",
    "\n",
    "class LinearVAE(object):\n",
    "  \"\"\"Linear VAE\n",
    "  \n",
    "  Allows for the reconstruction error to be computed analytically or via\n",
    "  single-sample stochastic estimation.\n",
    "  \"\"\"\n",
    "\n",
    "  def __init__(self, input_tensor, config=LinearVAEConfig()):\n",
    "    self._config = config\n",
    "    self.input_tensor = input_tensor\n",
    "\n",
    "    self.z_logvar = tf.get_variable(\n",
    "        'logvars', shape=(config.hidden_dim), trainable=True)\n",
    "    self.expanded_z_logvar = tf.expand_dims(self.z_logvar, 0)\n",
    "\n",
    "    self.enc_weight = tf.get_variable(\n",
    "        'enc_weight',\n",
    "        shape=(config.input_dim, config.hidden_dim),\n",
    "        trainable=True)\n",
    "    self.mean = tf.get_variable(\n",
    "        'mean', shape=(config.input_dim), trainable=True)\n",
    "    self.dec_weight = tf.get_variable(\n",
    "        'dec_weight',\n",
    "        shape=(config.hidden_dim, config.input_dim),\n",
    "        trainable=True)\n",
    "    if self._config.sigma_init is not None:\n",
    "      sigma_init = tf.constant_initializer(np.log(self._config.sigma_init))\n",
    "    else:\n",
    "      sigma_init = None\n",
    "    self.log_sigma_sq = tf.get_variable(\n",
    "        'log_sigma',\n",
    "        shape=(),\n",
    "        initializer=sigma_init,\n",
    "        trainable=self._config.trainable_sigma)\n",
    "    self.sigma_sq = tf.exp(self.log_sigma_sq)\n",
    "\n",
    "    self.z_mean = tf.matmul(self.input_tensor - self.mean, self.enc_weight)\n",
    "    if self._config.stochastic_ELBO:\n",
    "      eps = tf.random_normal(\n",
    "        (tf.shape(self.input_tensor)[0], self._config.hidden_dim),\n",
    "        mean=0.0,\n",
    "        stddev=1.0,\n",
    "        dtype=tf.float32)\n",
    "      self.z_sample = self.z_mean + eps * tf.exp(0.5 * self.expanded_z_logvar)\n",
    "\n",
    "      with tf.variable_scope('decoder') as dec_scope:\n",
    "        self.reconstruction = tf.matmul(self.z_sample, self.dec_weight)\n",
    "\n",
    "    ## Loss\n",
    "    with tf.name_scope('losses'):\n",
    "      # Reconstruction loss under recognition model\n",
    "      if self._config.stochastic_ELBO:\n",
    "        self.recon_loss = self.stochastic_recon(self.input_tensor,\n",
    "                                                self.reconstruction)\n",
    "      else:\n",
    "        self.recon_loss = self.analytic_recon(self.input_tensor)\n",
    "\n",
    "      # KL Divergence to Gaussian prior in latent space\n",
    "      # We assume prior mean of 0.0 and standard deviation of 1.0\n",
    "      kl = self.gaussian_kl_divergence(self.z_mean, self.expanded_z_logvar,\n",
    "                                       0.0,\n",
    "                                       2 * tf.log(1.0))\n",
    "      avg_kl = tf.reduce_mean(kl, 0)\n",
    "      self.kl_div = tf.reduce_sum(avg_kl)\n",
    "      self.elbo = self.recon_loss + self.kl_div\n",
    "\n",
    "  def analytic_recon(self, x):\n",
    "    \"\"\"Compute the analytic reconstruction error for a linear VAE.\n",
    "\n",
    "    Args:\n",
    "      x: The input tensor.\n",
    "\n",
    "    Returns:\n",
    "\n",
    "      E_q[log p(x|z)]\n",
    "    \"\"\"\n",
    "    wv = tf.matmul(self.enc_weight, self.dec_weight)\n",
    "    x_sub_mu = x - self.mean\n",
    "\n",
    "    wvx = tf.matmul(x_sub_mu, wv)\n",
    "    xvwwvx = tf.reduce_sum(wvx * wvx, 1)\n",
    "\n",
    "    tr_wdw = tf.trace(\n",
    "        tf.matmul(\n",
    "            self.dec_weight,\n",
    "            tf.expand_dims(tf.exp(self.z_logvar), 1) * self.dec_weight,\n",
    "            transpose_a=True))\n",
    "\n",
    "    xwvx = tf.reduce_sum(wvx * x_sub_mu, 1)\n",
    "\n",
    "    xx = tf.reduce_sum(x_sub_mu * x_sub_mu, 1)\n",
    "\n",
    "    d = self._config.input_dim\n",
    "    recon_loss = 0.5 * (\n",
    "        (tr_wdw + xvwwvx - 2.0 * xwvx + xx) / self.sigma_sq + d *\n",
    "        (_LOG_2PI + self.log_sigma_sq))\n",
    "    return tf.reduce_mean(recon_loss)\n",
    "  \n",
    "  def stochastic_recon(self, x, logits):\n",
    "    \"\"\"Stochastic estimation of the reconstruction error.\n",
    "\n",
    "    Computes the reconstruction error under a Gaussian observation model.\n",
    "\n",
    "    Args:\n",
    "      x: The input tensor.\n",
    "      logits: The stochastic output of the decoder.\n",
    "\n",
    "    Returns:\n",
    "\n",
    "      MEAN_i(log p(x_i|z_i))\n",
    "    \"\"\"\n",
    "    input_dim = tf.cast(tf.shape(x)[1], tf.float32)\n",
    "    batch_size = tf.shape(x)[0]\n",
    "    inputs = tf.reshape(x, (batch_size, -1))\n",
    "    logits = tf.reshape(logits, (batch_size, -1))\n",
    "\n",
    "    return tf.reduce_mean(0.5 * (tf.reduce_sum(\n",
    "        (inputs - logits)**2 / self.sigma_sq, 1) +\n",
    "                                  (_LOG_2PI + self.log_sigma_sq) * input_dim))\n",
    "\n",
    "  def gaussian_kl_divergence(self, q_mean, q_logvar, p_mean, p_logvar):\n",
    "    \"\"\"KL Divergence between two Gaussian distributions.\n",
    "\n",
    "    Given q ~ N(mu_1, sigma^2_1) and p ~ N(mu_2, sigma^2_2), this function\n",
    "    returns,\n",
    "\n",
    "    KL(q||p) = log (sigma^2_2 / sigma^2_1) +\n",
    "      (sigma^2_1 + (mu_1 - mu_2)^2) / (2 sigma^2_2) - 0.5\n",
    "\n",
    "    Args:\n",
    "      q_mean: Mean of proposal distribution.\n",
    "      q_logvar: Log-variance of proposal distribution\n",
    "      p_mean: Mean of prior distribution.\n",
    "      p_logvar: Log-variance of prior distribution\n",
    "\n",
    "    Returns:\n",
    "      The KL divergence between q and p ( KL(q||p) ).\n",
    "    \"\"\"\n",
    "    return 0.5 * (\n",
    "        p_logvar - q_logvar + (tf.exp(q_logvar) +\n",
    "                               (q_mean - p_mean)**2) / tf.exp(p_logvar) - 1)"
   ]
  },
  {
   "cell_type": "markdown",
   "metadata": {},
   "source": [
    "## pPCA"
   ]
  },
  {
   "cell_type": "code",
   "execution_count": 4,
   "metadata": {},
   "outputs": [],
   "source": [
    "def compute_ppca_mle(covariance, z_dim):\n",
    "    \"\"\"\n",
    "    Compute the Maximum Likelihood Estimation (MLE) for probabilistic Principal Component Analysis (pPCA).\n",
    "\n",
    "    Args:\n",
    "      covariance: The data covariance matrix.\n",
    "      z_dim: The number of hidden dimensions (latent space dimensionality).\n",
    "    \n",
    "    Returns:\n",
    "      (sigma_sq_mle, W_mle): Tuple containing the MLE of the variance (sigma_sq_mle) and \n",
    "                             the weight matrix (W_mle) for pPCA.\n",
    "    \"\"\"\n",
    "    # Eigenvalue decomposition of the covariance matrix\n",
    "    w, u = np.linalg.eigh(covariance)\n",
    "\n",
    "    # Sort eigenvalues and eigenvectors in descending order\n",
    "    eigvals, eigvecs = w[::-1], u[:, ::-1]\n",
    "\n",
    "    # Calculate sigma squared (variance) MLE\n",
    "    # This is the average of the smallest (d - z_dim) eigenvalues\n",
    "    missing_eigvals = eigvals[z_dim:]\n",
    "    sigma_sq_mle = missing_eigvals.sum() / (eigvals.shape[0] - z_dim)\n",
    "\n",
    "    # Select the top z_dim eigenvalues and corresponding eigenvectors\n",
    "    active_eigvals = np.diag(eigvals[:z_dim])\n",
    "    active_components = eigvecs[:, :z_dim]\n",
    "\n",
    "    # Calculate the MLE for the weight matrix W\n",
    "    W_mle = active_components.dot(\n",
    "        (active_eigvals - sigma_sq_mle * np.eye(z_dim)) ** 0.5)\n",
    "    \n",
    "    return sigma_sq_mle, W_mle\n",
    "\n",
    "def log_p_x_true(W, sigma_sq, N, data_cov):\n",
    "    \"\"\"\n",
    "    Compute the log likelihood of the observed data under the pPCA model.\n",
    "\n",
    "    Args:\n",
    "      W: The weight matrix (decoder weights) of the pPCA model.\n",
    "      sigma_sq: The variance of the observation noise in the pPCA model.\n",
    "      N: The number of data points.\n",
    "      data_cov: The covariance matrix of the observed data.\n",
    "    \n",
    "    Returns:\n",
    "      The log likelihood of the data given the pPCA model parameters.\n",
    "    \"\"\"\n",
    "    d = data_cov.shape[0]\n",
    "\n",
    "    # Compute the covariance matrix of the pPCA model\n",
    "    C = W.dot(W.T) + sigma_sq * np.eye(d)\n",
    "\n",
    "    # Calculate the log likelihood\n",
    "    loglik = d * _LOG_2PI + np.linalg.slogdet(C)[1]\n",
    "    loglik += np.trace(np.linalg.inv(C).dot(data_cov))\n",
    "\n",
    "    # Scale by the number of data points\n",
    "    return -loglik * N / 2"
   ]
  },
  {
   "cell_type": "markdown",
   "metadata": {},
   "source": [
    "## Training the Linear VAE and pPCA"
   ]
  },
  {
   "cell_type": "markdown",
   "metadata": {},
   "source": [
    "## Probabilistic PCA"
   ]
  },
  {
   "cell_type": "code",
   "execution_count": 5,
   "metadata": {},
   "outputs": [],
   "source": [
    "# Some hyperparameters\n",
    "DATA_SIZE = 1000\n",
    "Z_DIM = 200\n",
    "VAE_STEPS = 10000"
   ]
  },
  {
   "cell_type": "code",
   "execution_count": 6,
   "metadata": {},
   "outputs": [
    {
     "name": "stderr",
     "output_type": "stream",
     "text": [
      "WARNING:absl:Found a different version 3.0.1 of dataset mnist in data_dir C:\\Users\\xiaoo\\tensorflow_datasets. Using currently defined version 1.0.0.\n"
     ]
    },
    {
     "name": "stdout",
     "output_type": "stream",
     "text": [
      "\u001b[1mDownloading / extracting dataset mnist (?? GiB) to C:\\Users\\xiaoo\\tensorflow_datasets\\mnist\\1.0.0...\u001b[0m\n"
     ]
    },
    {
     "name": "stderr",
     "output_type": "stream",
     "text": [
      "Dl Completed...: 0 url [00:00, ? url/s]\n",
      "Dl Completed...:   0%|          | 0/1 [00:00<?, ? url/s]\n",
      "Dl Completed...:   0%|          | 0/2 [00:00<?, ? url/s]\n",
      "Dl Completed...:   0%|          | 0/3 [00:00<?, ? url/s]\n",
      "Dl Completed...:   0%|          | 0/4 [00:00<?, ? url/s]\n",
      "Dl Completed...:   0%|          | 0/4 [00:00<?, ? url/s]\n",
      "Dl Completed...:   0%|          | 0/4 [00:00<?, ? url/s]\n",
      "Dl Completed...:  25%|██▌       | 1/4 [00:00<00:00, 14.38 url/s]\n",
      "Dl Completed...:  25%|██▌       | 1/4 [00:00<00:00, 12.73 url/s]\n",
      "Dl Completed...:  25%|██▌       | 1/4 [00:00<00:00, 11.56 url/s]\n",
      "Dl Completed...:  25%|██▌       | 1/4 [00:00<00:00, 10.58 url/s]\n",
      "Dl Completed...:  25%|██▌       | 1/4 [00:00<00:00,  7.90 url/s]\n",
      "Dl Completed...:  25%|██▌       | 1/4 [00:00<00:00,  7.55 url/s]\n",
      "Dl Completed...:  50%|█████     | 2/4 [00:00<00:00, 14.76 url/s]\n",
      "Dl Completed...:  50%|█████     | 2/4 [00:00<00:00, 14.76 url/s]\n",
      "\u001b[A\n",
      "Dl Completed...:  50%|█████     | 2/4 [00:00<00:00, 14.76 url/s]\n",
      "Dl Completed...:  50%|█████     | 2/4 [00:00<00:00, 14.76 url/s]\n",
      "Dl Completed...:  50%|█████     | 2/4 [00:00<00:00, 14.76 url/s]\n",
      "Dl Completed...:  50%|█████     | 2/4 [00:00<00:00, 14.76 url/s]\n",
      "Dl Completed...:  50%|█████     | 2/4 [00:00<00:00, 14.76 url/s]\n",
      "Dl Completed...:  75%|███████▌  | 3/4 [00:00<00:00, 14.76 url/s]\n",
      "Dl Completed...:  75%|███████▌  | 3/4 [00:00<00:00, 14.76 url/s]\n",
      "Dl Completed...:  75%|███████▌  | 3/4 [00:00<00:00, 14.76 url/s]\n",
      "Dl Completed...:  75%|███████▌  | 3/4 [00:00<00:00, 14.76 url/s]\n",
      "Dl Completed...:  75%|███████▌  | 3/4 [00:00<00:00, 14.76 url/s]\n",
      "Dl Completed...:  75%|███████▌  | 3/4 [00:00<00:00, 14.76 url/s]\n",
      "Dl Completed...:  75%|███████▌  | 3/4 [00:00<00:00, 14.76 url/s]\n",
      "Dl Completed...:  75%|███████▌  | 3/4 [00:00<00:00, 14.76 url/s]\n",
      "Dl Completed...: 100%|██████████| 4/4 [00:00<00:00,  5.91 url/s]\n",
      "Dl Completed...: 100%|██████████| 4/4 [00:00<00:00,  5.91 url/s]\n",
      "\u001b[A\n",
      "Dl Completed...: 100%|██████████| 4/4 [00:00<00:00,  5.91 url/s]\n",
      "Extraction completed...: 100%|██████████| 4/4 [00:00<00:00,  4.22 file/s]\n",
      "Dl Size...: 100%|██████████| 10/10 [00:00<00:00, 10.55 MiB/s]\n",
      "Dl Completed...: 100%|██████████| 4/4 [00:00<00:00,  4.20 url/s]\n"
     ]
    },
    {
     "name": "stdout",
     "output_type": "stream",
     "text": [
      "\n",
      "\n",
      "\n"
     ]
    },
    {
     "name": "stderr",
     "output_type": "stream",
     "text": [
      "60000 examples [00:31, 1910.29 examples/s]\n",
      "Shuffling...:   0%|          | 0/10 [00:00<?, ? shard/s]"
     ]
    },
    {
     "name": "stdout",
     "output_type": "stream",
     "text": [
      "WARNING:tensorflow:From d:\\install\\anaconda\\envs\\vae\\lib\\site-packages\\tensorflow_datasets\\core\\file_format_adapter.py:249: tf_record_iterator (from tensorflow.python.lib.io.tf_record) is deprecated and will be removed in a future version.\n",
      "Instructions for updating:\n",
      "Use eager execution and: \n",
      "`tf.data.TFRecordDataset(path)`\n"
     ]
    },
    {
     "name": "stderr",
     "output_type": "stream",
     "text": [
      "WARNING:tensorflow:From d:\\install\\anaconda\\envs\\vae\\lib\\site-packages\\tensorflow_datasets\\core\\file_format_adapter.py:249: tf_record_iterator (from tensorflow.python.lib.io.tf_record) is deprecated and will be removed in a future version.\n",
      "Instructions for updating:\n",
      "Use eager execution and: \n",
      "`tf.data.TFRecordDataset(path)`\n",
      "Reading...: 6000 examples [00:00, 129237.77 examples/s]\n",
      "Writing...: 100%|██████████| 6000/6000 [00:00<00:00, 47624.84 examples/s]\n",
      "Reading...: 6000 examples [00:00, 185065.96 examples/s] shard/s]\n",
      "Writing...: 100%|██████████| 6000/6000 [00:00<00:00, 48886.56 examples/s]\n",
      "Reading...: 6000 examples [00:00, 187510.80 examples/s] shard/s]\n",
      "Writing...: 100%|██████████| 6000/6000 [00:00<00:00, 64226.06 examples/s]\n",
      "Reading...: 6000 examples [00:00, 427263.57 examples/s] shard/s]\n",
      "Writing...: 100%|██████████| 6000/6000 [00:00<00:00, 54714.86 examples/s]\n",
      "Reading...: 6000 examples [00:00, 127485.15 examples/s] shard/s]\n",
      "Writing...: 100%|██████████| 6000/6000 [00:00<00:00, 39142.46 examples/s]\n",
      "Reading...: 6000 examples [00:00, 195447.53 examples/s] shard/s]\n",
      "Writing...: 100%|██████████| 6000/6000 [00:00<00:00, 63137.44 examples/s]\n",
      "Reading...: 6000 examples [00:00, 170094.52 examples/s] shard/s]\n",
      "Writing...: 100%|██████████| 6000/6000 [00:00<00:00, 39041.54 examples/s]\n",
      "Reading...: 6000 examples [00:00, 141888.80 examples/s] shard/s]\n",
      "Writing...: 100%|██████████| 6000/6000 [00:00<00:00, 49595.16 examples/s]\n",
      "Reading...: 6000 examples [00:00, 186276.91 examples/s] shard/s]\n",
      "Writing...: 100%|██████████| 6000/6000 [00:00<00:00, 56757.25 examples/s]\n",
      "Reading...: 6000 examples [00:00, 382604.70 examples/s] shard/s]\n",
      "Writing...: 100%|██████████| 6000/6000 [00:00<00:00, 63593.58 examples/s]\n",
      "Shuffling...: 100%|██████████| 10/10 [00:01<00:00,  6.07 shard/s]\n",
      "10000 examples [00:08, 1236.69 examples/s]\n",
      "Reading...: 10000 examples [00:00, 440240.57 examples/s]\n",
      "Writing...: 100%|██████████| 10000/10000 [00:00<00:00, 56142.94 examples/s]\n",
      "Shuffling...: 100%|██████████| 1/1 [00:00<00:00,  4.25 shard/s]\n",
      "10000 examples [00:03, 2876.40 examples/s]0/2 [00:00<?, ? split/s]"
     ]
    },
    {
     "name": "stdout",
     "output_type": "stream",
     "text": [
      "WARNING:tensorflow:From d:\\install\\anaconda\\envs\\vae\\lib\\site-packages\\tensorflow_datasets\\core\\dataset_info.py:490: DatasetV1.output_shapes (from tensorflow.python.data.ops.dataset_ops) is deprecated and will be removed in a future version.\n",
      "Instructions for updating:\n",
      "Use `tf.compat.v1.data.get_output_shapes(dataset)`.\n"
     ]
    },
    {
     "name": "stderr",
     "output_type": "stream",
     "text": [
      "\n",
      "WARNING:tensorflow:From d:\\install\\anaconda\\envs\\vae\\lib\\site-packages\\tensorflow_datasets\\core\\dataset_info.py:490: DatasetV1.output_shapes (from tensorflow.python.data.ops.dataset_ops) is deprecated and will be removed in a future version.\n",
      "Instructions for updating:\n",
      "Use `tf.compat.v1.data.get_output_shapes(dataset)`.\n"
     ]
    },
    {
     "name": "stdout",
     "output_type": "stream",
     "text": [
      "WARNING:tensorflow:From d:\\install\\anaconda\\envs\\vae\\lib\\site-packages\\tensorflow_datasets\\core\\dataset_info.py:491: DatasetV1.output_types (from tensorflow.python.data.ops.dataset_ops) is deprecated and will be removed in a future version.\n",
      "Instructions for updating:\n",
      "Use `tf.compat.v1.data.get_output_types(dataset)`.\n"
     ]
    },
    {
     "name": "stderr",
     "output_type": "stream",
     "text": [
      "WARNING:tensorflow:From d:\\install\\anaconda\\envs\\vae\\lib\\site-packages\\tensorflow_datasets\\core\\dataset_info.py:491: DatasetV1.output_types (from tensorflow.python.data.ops.dataset_ops) is deprecated and will be removed in a future version.\n",
      "Instructions for updating:\n",
      "Use `tf.compat.v1.data.get_output_types(dataset)`.\n",
      "60000 examples [00:20, 2891.95 examples/s]1/2 [00:03<00:03,  3.64s/ split]\n",
      "Computing statistics...: 100%|██████████| 2/2 [00:24<00:00, 12.23s/ split]\n"
     ]
    },
    {
     "name": "stdout",
     "output_type": "stream",
     "text": [
      "Avg. Maximum Likelihood: 941.4504863864968\n"
     ]
    }
   ],
   "source": [
    "mnist_data = np.array(list(tfds.as_numpy(load_mnist_data(DATA_SIZE))))\n",
    "covariance = np.cov(mnist_data, rowvar=False)\n",
    "\n",
    "sigma_mle, W_mle = compute_ppca_mle(covariance, Z_DIM)\n",
    "avg_log_p_mle = log_p_x_true(W_mle, sigma_mle, DATA_SIZE, covariance)/DATA_SIZE\n",
    "print(\"Avg. Maximum Likelihood: {}\".format(avg_log_p_mle))"
   ]
  },
  {
   "cell_type": "markdown",
   "metadata": {},
   "source": [
    "## Linear VAE"
   ]
  },
  {
   "cell_type": "code",
   "execution_count": 8,
   "metadata": {},
   "outputs": [],
   "source": [
    "def build_train_op(mnist_data, learning_rate=0.001):\n",
    "    \"\"\"\n",
    "    Builds and returns a training operation for optimizing a linear Variational Autoencoder (VAE).\n",
    "\n",
    "    This function resets the default TensorFlow graph, builds a new VAE model along with its optimizer,\n",
    "    and creates a training operation based on the Evidence Lower Bound (ELBO) loss.\n",
    "\n",
    "    Args:\n",
    "        mnist_data: Input data for the VAE, typically MNIST dataset.\n",
    "        learning_rate: Learning rate for the Adam optimizer (default is 0.001).\n",
    "\n",
    "    Returns:\n",
    "        tuple: A tuple containing the VAE model and the training operation.\n",
    "    \"\"\"\n",
    "    # Reset the default graph to ensure a clean state\n",
    "    tf.reset_default_graph()\n",
    "\n",
    "    # Prepare the input data pipeline\n",
    "    input_data = tf.data.Dataset.from_tensor_slices(mnist_data)\n",
    "    input_data = input_data.repeat().batch(DATA_SIZE)  # DATA_SIZE should be defined elsewhere\n",
    "    input_tensor = input_data.make_one_shot_iterator().get_next()\n",
    "\n",
    "    # Build the linear VAE model\n",
    "    vae_config = LinearVAEConfig(hidden_dim=Z_DIM, sigma_init=1.0)  # Z_DIM should be defined elsewhere\n",
    "    vae = LinearVAE(input_tensor, vae_config)\n",
    "\n",
    "    # Set up the optimizer and training operation\n",
    "    optimizer = tf.train.AdamOptimizer(learning_rate=learning_rate)\n",
    "    train_op = optimizer.minimize(vae.elbo)\n",
    "\n",
    "    return vae, train_op"
   ]
  },
  {
   "cell_type": "code",
   "execution_count": 9,
   "metadata": {},
   "outputs": [
    {
     "name": "stdout",
     "output_type": "stream",
     "text": [
      "WARNING:tensorflow:From <ipython-input-8-64fe1dcebf93>:21: DatasetV1.make_one_shot_iterator (from tensorflow.python.data.ops.dataset_ops) is deprecated and will be removed in a future version.\n",
      "Instructions for updating:\n",
      "Use `for ... in dataset:` to iterate over a dataset. If using `tf.estimator`, return the `Dataset` object directly from your input function. As a last resort, you can use `tf.compat.v1.data.make_one_shot_iterator(dataset)`.\n"
     ]
    },
    {
     "name": "stderr",
     "output_type": "stream",
     "text": [
      "WARNING:tensorflow:From <ipython-input-8-64fe1dcebf93>:21: DatasetV1.make_one_shot_iterator (from tensorflow.python.data.ops.dataset_ops) is deprecated and will be removed in a future version.\n",
      "Instructions for updating:\n",
      "Use `for ... in dataset:` to iterate over a dataset. If using `tf.estimator`, return the `Dataset` object directly from your input function. As a last resort, you can use `tf.compat.v1.data.make_one_shot_iterator(dataset)`.\n"
     ]
    },
    {
     "name": "stdout",
     "output_type": "stream",
     "text": [
      "WARNING:tensorflow:From d:\\install\\anaconda\\envs\\vae\\lib\\site-packages\\tensorflow_core\\python\\ops\\math_grad.py:1375: where (from tensorflow.python.ops.array_ops) is deprecated and will be removed in a future version.\n",
      "Instructions for updating:\n",
      "Use tf.where in 2.0, which has the same broadcast rule as np.where\n"
     ]
    },
    {
     "name": "stderr",
     "output_type": "stream",
     "text": [
      "WARNING:tensorflow:From d:\\install\\anaconda\\envs\\vae\\lib\\site-packages\\tensorflow_core\\python\\ops\\math_grad.py:1375: where (from tensorflow.python.ops.array_ops) is deprecated and will be removed in a future version.\n",
      "Instructions for updating:\n",
      "Use tf.where in 2.0, which has the same broadcast rule as np.where\n"
     ]
    }
   ],
   "source": [
    "# Use the same data as pPCA\n",
    "vae, train_op = build_train_op(mnist_data, 0.001)\n",
    "sess = tf.InteractiveSession()\n",
    "sess.run(tf.global_variables_initializer())"
   ]
  },
  {
   "cell_type": "code",
   "execution_count": 10,
   "metadata": {},
   "outputs": [
    {
     "name": "stdout",
     "output_type": "stream",
     "text": [
      "ELBO at step 0 = -970.06396484375\n",
      "ELBO at step 200 = -668.593505859375\n",
      "ELBO at step 400 = -590.5337524414062\n",
      "ELBO at step 600 = -514.4788208007812\n",
      "ELBO at step 800 = -441.2560729980469\n",
      "ELBO at step 1000 = -369.88079833984375\n",
      "ELBO at step 1200 = -299.8116455078125\n",
      "ELBO at step 1400 = -231.00201416015625\n",
      "ELBO at step 1600 = -163.43814086914062\n",
      "ELBO at step 1800 = -97.18363189697266\n",
      "ELBO at step 2000 = -32.298004150390625\n",
      "ELBO at step 2200 = 31.121097564697266\n",
      "ELBO at step 2400 = 93.04283905029297\n",
      "ELBO at step 2600 = 153.4493408203125\n",
      "ELBO at step 2800 = 212.22854614257812\n",
      "ELBO at step 3000 = 269.3854675292969\n",
      "ELBO at step 3200 = 324.63702392578125\n",
      "ELBO at step 3400 = 378.05517578125\n",
      "ELBO at step 3600 = 429.7413635253906\n",
      "ELBO at step 3800 = 479.41265869140625\n",
      "ELBO at step 4000 = 527.085205078125\n",
      "ELBO at step 4200 = 572.910400390625\n",
      "ELBO at step 4400 = 616.5996704101562\n",
      "ELBO at step 4600 = 658.495849609375\n",
      "ELBO at step 4800 = 698.3576049804688\n",
      "ELBO at step 5000 = 736.2696533203125\n",
      "ELBO at step 5200 = 772.234130859375\n",
      "ELBO at step 5400 = 806.19091796875\n",
      "ELBO at step 5600 = 836.9468994140625\n",
      "ELBO at step 5800 = 863.3367309570312\n",
      "ELBO at step 6000 = 885.3634033203125\n",
      "ELBO at step 6200 = 903.060791015625\n",
      "ELBO at step 6400 = 916.6123657226562\n",
      "ELBO at step 6600 = 926.3951416015625\n",
      "ELBO at step 6800 = 932.985107421875\n",
      "ELBO at step 7000 = 937.122802734375\n",
      "ELBO at step 7200 = 939.4771728515625\n",
      "ELBO at step 7400 = 940.711669921875\n",
      "ELBO at step 7600 = 941.28662109375\n",
      "ELBO at step 7800 = 941.534423828125\n",
      "ELBO at step 8000 = 941.669921875\n",
      "ELBO at step 8200 = 941.6785278320312\n",
      "ELBO at step 8400 = 941.70263671875\n",
      "ELBO at step 8600 = 941.7190551757812\n",
      "ELBO at step 8800 = 941.7189331054688\n",
      "ELBO at step 9000 = 941.7314453125\n",
      "ELBO at step 9200 = 941.72607421875\n",
      "ELBO at step 9400 = 941.73388671875\n",
      "ELBO at step 9600 = 941.73046875\n",
      "ELBO at step 9800 = 941.7195434570312\n",
      "ELBO at step 10000 = 941.7333984375\n",
      "ELBO at step 10200 = 941.7313232421875\n",
      "ELBO at step 10400 = 941.7259521484375\n",
      "ELBO at step 10600 = 941.7169799804688\n",
      "ELBO at step 10800 = 941.7348022460938\n",
      "ELBO at step 11000 = 941.7368774414062\n",
      "ELBO at step 11200 = 941.7315673828125\n",
      "ELBO at step 11400 = 941.7259521484375\n",
      "ELBO at step 11600 = 941.7449340820312\n",
      "ELBO at step 11800 = 941.7271728515625\n"
     ]
    }
   ],
   "source": [
    "elbos = []\n",
    "# Note that floating point errors in the analytic ELBO computation\n",
    "# lead to values which may (slightly) exceed the true log likelihood here\n",
    "for i in range(12000):\n",
    "  elbo = -sess.run([train_op, vae.elbo])[-1]\n",
    "  if i % 200 == 0:\n",
    "    elbos.append(elbo)\n",
    "    print(\"ELBO at step {} = {}\".format(i, elbo))"
   ]
  },
  {
   "cell_type": "code",
   "execution_count": 11,
   "metadata": {},
   "outputs": [
    {
     "data": {
      "text/plain": [
       "<matplotlib.legend.Legend at 0x2135094b748>"
      ]
     },
     "execution_count": 11,
     "metadata": {},
     "output_type": "execute_result"
    },
    {
     "data": {
      "image/png": "[encoded data removed]",
      "text/plain": [
       "<Figure size 576x288 with 1 Axes>"
      ]
     },
     "metadata": {},
     "output_type": "display_data"
    }
   ],
   "source": [
    "plt.style.use('seaborn')\n",
    "fig, ax = plt.subplots(figsize=(8,4))\n",
    "ax.plot(100*np.arange(len(elbos)), elbos, color='blue', label='Linear VAE')\n",
    "ax.axhline(avg_log_p_mle, ls='--', color='red', label='pPCA MLE')\n",
    "ax.set_xlabel('Training steps')\n",
    "ax.set_ylabel('Training ELBO')\n",
    "plt.legend(frameon=True)"
   ]
  },
  {
   "cell_type": "code",
   "execution_count": 12,
   "metadata": {},
   "outputs": [],
   "source": [
    "W_vae, log_sigma_sq = sess.run([vae.dec_weight, vae.log_sigma_sq])\n",
    "W_vae = W_vae.T\n",
    "sigma_sq_vae = np.exp(log_sigma_sq)"
   ]
  },
  {
   "cell_type": "code",
   "execution_count": 13,
   "metadata": {},
   "outputs": [
    {
     "name": "stdout",
     "output_type": "stream",
     "text": [
      "Avg. VAE Likelihood: 941.4069714522963\n",
      "Avg. Maximum Likelihood: 941.4504863864968\n"
     ]
    },
    {
     "data": {
      "image/png": "[encoded data removed]",
      "text/plain": [
       "<Figure size 576x396 with 1 Axes>"
      ]
     },
     "metadata": {},
     "output_type": "display_data"
    }
   ],
   "source": [
    "avg_log_p_vae = log_p_x_true(W_vae, sigma_sq_vae, DATA_SIZE, covariance)/DATA_SIZE\n",
    "\n",
    "# Reordering rows/columns by eigenvalues for visualization\n",
    "diag = np.diag(W_vae.T.dot(W_vae))\n",
    "sort_idx = np.argsort(-diag)\n",
    "P = np.zeros((W_vae.shape[1], W_vae.shape[1]))\n",
    "for i,j in enumerate(sort_idx):\n",
    "  P[i][j] = 1\n",
    "ordered_WTW = P.dot(W_vae.T.dot(W_vae)).dot(P.T)\n",
    "\n",
    "plt.figure()\n",
    "plt.imshow(ordered_WTW[:30,:30], cmap='gray', vmin=0.0)\n",
    "plt.title(r'Top left block of $W^T W$ (ordered by eigenvalue)')\n",
    "print(\"Avg. VAE Likelihood: {}\".format(avg_log_p_vae))\n",
    "print(\"Avg. Maximum Likelihood: {}\".format(avg_log_p_mle))"
   ]
  }
 ],
 "metadata": {
  "kernelspec": {
   "display_name": "openai",
   "language": "python",
   "name": "python3"
  },
  "language_info": {
   "codemirror_mode": {
    "name": "ipython",
    "version": 3
   },
   "file_extension": ".py",
   "mimetype": "text/x-python",
   "name": "python",
   "nbconvert_exporter": "python",
   "pygments_lexer": "ipython3",
   "version": "3.6.13"
  }
 },
 "nbformat": 4,
 "nbformat_minor": 2
}
